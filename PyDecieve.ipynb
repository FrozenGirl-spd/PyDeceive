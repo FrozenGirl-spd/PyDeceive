{
  "nbformat": 4,
  "nbformat_minor": 0,
  "metadata": {
    "colab": {
      "name": "PyDecieve.ipynb",
      "provenance": [],
      "authorship_tag": "ABX9TyPL7Mf9WKlFTscdQEQsJ6/T",
      "include_colab_link": true
    },
    "kernelspec": {
      "name": "python3",
      "display_name": "Python 3"
    },
    "accelerator": "TPU"
  },
  "cells": [
    {
      "cell_type": "markdown",
      "metadata": {
        "id": "view-in-github",
        "colab_type": "text"
      },
      "source": [
        "<a href=\"https://colab.research.google.com/github/smaranjitghose/PyDeceive/blob/master/PyDecieve.ipynb\" target=\"_parent\"><img src=\"https://colab.research.google.com/assets/colab-badge.svg\" alt=\"Open In Colab\"/></a>"
      ]
    },
    {
      "cell_type": "code",
      "metadata": {
        "id": "xOM7q_ZSvQ7T",
        "colab_type": "code",
        "colab": {}
      },
      "source": [
        "# Loading the libraries we need\n",
        "import numpy as np\n",
        "import cv2\n",
        "import time"
      ],
      "execution_count": 0,
      "outputs": []
    },
    {
      "cell_type": "code",
      "metadata": {
        "id": "3R7MneDfvfey",
        "colab_type": "code",
        "colab": {}
      },
      "source": [
        "#Creating a VideoCapture object to read video from the primary camera\n",
        "cap=cv2.VideoCapture(0)\n",
        "\n",
        "#Creating a VideoWriterObject to save the output video\n",
        "fourcc = cv2.VideoWriter_fourcc(*'XVID')\n",
        "out = cv2.VideoWriter('wizard_smaran.avi' , fourcc, 20.0, (640,480))\n",
        "\n",
        "#allow the system to sleep for 3 sec before webcam starts\n",
        "time.sleep(2)\n",
        "\n",
        "# Capture the background in range of 30 or 60 without you!\n",
        "background = 0\n",
        "for i in range(30):\n",
        "    ret, background = cap.read()#capturing image\n",
        "\n",
        "#Now we capture you in real time!\n",
        "while(cap.isOpened()):\n",
        "    ret, img = cap.read()\n",
        "    \n",
        "    if not ret:\n",
        "        break\n",
        "    \n",
        "    # Converting the color space from BGR to HSV as BGR is more sensitive to light\n",
        "    hsv=cv2.cvtColor(img, cv2.COLOR_BGR2HSV)\n",
        "    lower_red = np.array([0,120,70])\n",
        "    upper_red = np.array([10,255,255])\n",
        "    mask1 = cv2.inRange(hsv , lower_red , upper_red)\n",
        "    \n",
        "    lower_red = np.array([170,120,70])\n",
        "    upper_red = np.array([180,255,255])\n",
        "    mask2 = cv2.inRange(hsv , lower_red , upper_red)\n",
        "\n",
        "    # Generating mask to detect red color\n",
        "    mask1 = mask1 + mask2 #OR\n",
        "\n",
        "    mask1=cv2.morphologyEx(mask1, cv2.MORPH_OPEN ,np.ones((3,3) , np.uint8) , iterations=2)    \n",
        "    mask2=cv2.morphologyEx(mask1, cv2.MORPH_DILATE ,np.ones((3,3) , np.uint8) , iterations=1)\n",
        "\n",
        "    # Segmenting out cloth color   \n",
        "    mask2 = cv2.bitwise_not(mask1)\n",
        "    \n",
        "    # Segment the red color part out of the frame using bitwise and with the inverted mask\n",
        "    layer1 = cv2.bitwise_and(background, background, mask=mask1)\n",
        "    # Create image showing static background frame pixels only for the masked region\n",
        "    layer2 = cv2.bitwise_and(img, img, mask=mask2)\n",
        "    \n",
        "    final_output = cv2.addWeighted(layer1 , 1, layer2 , 1, 0)\n",
        "    \n",
        "    cv2.imshow('Invisible Smaran' , final_output)\n",
        "    k=cv2.waitKey(10)\n",
        "    \n",
        "    #Keyboard Interupt\n",
        "    if k==27:\n",
        "        break\n",
        "        \n",
        "cap.release()\n",
        "cv2.destroyAllWindows()"
      ],
      "execution_count": 0,
      "outputs": []
    }
  ]
}