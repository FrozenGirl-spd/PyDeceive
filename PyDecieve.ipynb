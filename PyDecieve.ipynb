{
  "nbformat": 4,
  "nbformat_minor": 0,
  "metadata": {
    "colab": {
      "name": "PyDecieve.ipynb",
      "provenance": [],
      "authorship_tag": "ABX9TyO3Iy0FViXS8TTyMcoh9Z78",
      "include_colab_link": true
    },
    "kernelspec": {
      "name": "python3",
      "display_name": "Python 3"
    },
    "accelerator": "TPU"
  },
  "cells": [
    {
      "cell_type": "markdown",
      "metadata": {
        "id": "view-in-github",
        "colab_type": "text"
      },
      "source": [
        "<a href=\"https://colab.research.google.com/github/smaranjitghose/PyDeceive/blob/master/PyDecieve.ipynb\" target=\"_parent\"><img src=\"https://colab.research.google.com/assets/colab-badge.svg\" alt=\"Open In Colab\"/></a>"
      ]
    },
    {
      "cell_type": "code",
      "metadata": {
        "id": "xOM7q_ZSvQ7T",
        "colab_type": "code",
        "colab": {}
      },
      "source": [
        "# Loading the libraries we need\n",
        "import numpy as np\n",
        "import cv2\n",
        "import time"
      ],
      "execution_count": 0,
      "outputs": []
    },
    {
      "cell_type": "code",
      "metadata": {
        "id": "3R7MneDfvfey",
        "colab_type": "code",
        "colab": {}
      },
      "source": [
        "\n",
        "cap=cv2.VideoCapture(0)\n",
        "fourcc = cv2.VideoWriter_fourcc(*'XVID')\n",
        "out = cv2.VideoWriter('harry.avi' , fourcc, 20.0, (640,480))\n",
        "time.sleep(2)\n",
        "background = 0#capturing background\n",
        "for i in range(30):\n",
        "    ret, background = cap.read()#capturing image\n",
        "while(cap.isOpened()):\n",
        "    ret, img = cap.read()\n",
        "    \n",
        "    if not ret:\n",
        "        break\n",
        "        \n",
        "    hsv=cv2.cvtColor(img, cv2.COLOR_BGR2HSV)\n",
        "    lower_red = np.array([0,120,70])\n",
        "    upper_red = np.array([10,255,255])\n",
        "    mask1 = cv2.inRange(hsv , lower_red , upper_red)\n",
        "    \n",
        "    lower_red = np.array([170,120,70])\n",
        "    upper_red = np.array([180,255,255])\n",
        "    mask2 = cv2.inRange(hsv , lower_red , upper_red)\n",
        "    \n",
        "    mask1 = mask1 + mask2 #OR\n",
        "    mask1=cv2.morphologyEx(mask1, cv2.MORPH_OPEN ,np.ones((3,3) , np.uint8) , iterations=2)\n",
        "        \n",
        "    mask2=cv2.morphologyEx(mask1, cv2.MORPH_DILATE ,np.ones((3,3) , np.uint8) , iterations=1)\n",
        "        \n",
        "    mask2 = cv2.bitwise_not(mask1)\n",
        "    \n",
        "    res1 = cv2.bitwise_and(background, background, mask=mask1)\n",
        "    res2 = cv2.bitwise_and(img, img, mask=mask2)\n",
        "    \n",
        "    final_output = cv2.addWeighted(res1 , 1, res2 , 1, 0)\n",
        "    \n",
        "    cv2.imshow('Harry' , final_output)\n",
        "    k=cv2.waitKey(10)\n",
        "    if k==27:\n",
        "        break\n",
        "        \n",
        "cap.release()\n",
        "cv2.destroyAllWindows()"
      ],
      "execution_count": 0,
      "outputs": []
    }
  ]
}